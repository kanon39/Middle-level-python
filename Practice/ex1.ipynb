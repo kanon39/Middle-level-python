{
 "cells": [
  {
   "cell_type": "code",
   "execution_count": 1,
   "metadata": {},
   "outputs": [],
   "source": [
    "class Car () :\n",
    "    def __init__ (self, company, details) :\n",
    "        self._company = company\n",
    "        self._details = details\n",
    "    \n",
    "    def __str__ (self):\n",
    "        return 'str {} - {}'.format(self._company, self._details)\n",
    "\n",
    "car1 = Car('Ferrari', {'color':'White','horsepower':400, 'price':8000})\n",
    "car2 = Car('BMW', {'color':'Black','price':5000})"
   ]
  },
  {
   "cell_type": "code",
   "execution_count": 7,
   "metadata": {},
   "outputs": [
    {
     "data": {
      "text/plain": [
       "{'_company': 'BMW', '_details': {'color': 'Black', 'price': 5000}}"
      ]
     },
     "execution_count": 7,
     "metadata": {},
     "output_type": "execute_result"
    }
   ],
   "source": [
    "car1.__dict__\n",
    "car2.__dict__"
   ]
  },
  {
   "cell_type": "code",
   "execution_count": null,
   "metadata": {},
   "outputs": [],
   "source": []
  }
 ],
 "metadata": {
  "kernelspec": {
   "display_name": "Python 3",
   "language": "python",
   "name": "python3"
  },
  "language_info": {
   "codemirror_mode": {
    "name": "ipython",
    "version": 3
   },
   "file_extension": ".py",
   "mimetype": "text/x-python",
   "name": "python",
   "nbconvert_exporter": "python",
   "pygments_lexer": "ipython3",
   "version": "3.12.2"
  }
 },
 "nbformat": 4,
 "nbformat_minor": 2
}
