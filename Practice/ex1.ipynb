{
 "cells": [
  {
   "cell_type": "code",
   "execution_count": null,
   "metadata": {},
   "outputs": [],
   "source": [
    "class Car () :\n",
    "    def __init__ (self, company, details) :\n",
    "        self._company = company\n",
    "        self._details = details\n",
    "    \n",
    "    def __str__ (self):\n",
    "        return 'str {} - {}'.format(self._company, self._details)\n",
    "        "
   ]
  }
 ],
 "metadata": {
  "language_info": {
   "name": "python"
  }
 },
 "nbformat": 4,
 "nbformat_minor": 2
}
